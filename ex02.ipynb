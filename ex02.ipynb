{
 "cells": [
  {
   "cell_type": "markdown",
   "metadata": {},
   "source": [
    "# ex02 カメラで撮った映像を加工してみよう"
   ]
  },
  {
   "cell_type": "markdown",
   "metadata": {},
   "source": [
    "## 1. Python のプログラムを実行する方法\n",
    "\n",
    "先ほどまでは Python のコードを Jupyter Notebook 上で実行してきましたが，ここから先は，notebook 上ではなく独立した Python のプログラムを実行する必要があります．サンプルプログラムを用意しておきましたので，実行の仕方を確認しましょう．"
   ]
  },
  {
   "cell_type": "markdown",
   "metadata": {},
   "source": [
    "1. VSCode のファイル一覧から `sample.py` を開く．右のリンクから開くこともできます:  [sample.py](sample.py)\n",
    "1. `sample.py` を開いた VSCode の画面で，ウィンドウ右上の小さな三角ボタンを押す．\n",
    "1. `sample.py` が実行され，画像を表示した小さなウィンドウが現れる．\n",
    "1. そのウィンドウを選択（マウスでクリック）した状態で，キーボードの適当なキーを押すと，プログラムが終了する．\n",
    "\n",
    "\n",
    "<!--\n",
    "1. VSCode のファイル一覧から `sample.py` を開く．右のリンクから開くこともできます:  [sample.py](sample.py)\n",
    "1. VSCode のメニューから「表示」>「ターミナル」を選ぶ．VSCode のウィンドウ下部に「ターミナル」が開く．\n",
    "1. ターミナルに `python sample.py` と入力して Enter キーを押す\n",
    "1. `sample.py` が実行され，画像を表示した小さなウィンドウが現れる．\n",
    "1. そのウィンドウを選択（マウスでクリック）した状態で，キーボードの適当なキーを押すと，プログラムが終了する．\n",
    "-->"
   ]
  },
  {
   "cell_type": "markdown",
   "metadata": {},
   "source": [
    "実行できることを確認したら，`sample.py` を修正してから実行し直してみましょう．試しに，次のようにしてみてください．\n",
    "\n",
    "1. `sample.py` の `cv2.flip(cat1, 0)` のところを，`255 - cv2.flip(cat1, 0)` にする．\n",
    "1. 修正した `sample.py` を保存する．VSCode のメニューの「ファイル」>「保存」．\n",
    "1. `sample.py` を実行する"
   ]
  },
  {
   "cell_type": "markdown",
   "metadata": {},
   "source": [
    "## 2. カメラで撮った映像を表示するプログラム"
   ]
  },
  {
   "cell_type": "markdown",
   "metadata": {},
   "source": [
    "VSCode で [capture.py](capture.py) を開いて中身を確認し，実行してみましょう．\n",
    "ウィンドウを選択した状態で `q` （アルファベット `Q` の小文字）を押すと終了します．\n",
    "\n",
    "動作確認ができたら，次のことをやってみましょう．\n",
    "\n",
    "(1) `capture.py` の `cap.read()` の行と `cv2.imshow` の行の間に\n",
    "```\n",
    "frame = cv2.flip(frame, 1)\n",
    "```\n",
    "という行を挿入して保存し，動作確認する．\n",
    "\n",
    "(2) さらに `capture.py` をいじって，カメラで撮った映像をいろいろ加工するプログラムを作ってみる．"
   ]
  },
  {
   "cell_type": "code",
   "execution_count": null,
   "metadata": {},
   "outputs": [],
   "source": []
  }
 ],
 "metadata": {
  "language_info": {
   "name": "python"
  }
 },
 "nbformat": 4,
 "nbformat_minor": 2
}
