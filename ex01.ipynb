{
 "cells": [
  {
   "cell_type": "markdown",
   "metadata": {},
   "source": [
    "# ex01 Python で画像をいじってみよう"
   ]
  },
  {
   "cell_type": "markdown",
   "metadata": {},
   "source": [
    "## 1. これは何？"
   ]
  },
  {
   "cell_type": "markdown",
   "metadata": {},
   "source": [
    "これは，Jupyter Notebook と呼ばれる形式の文書です．\n",
    "文章と Python のコードを一緒に書いて，コードを実行することができます．\n",
    "\n",
    "この notebook 上では，文章やコードは，「セル」というかたまりでできています．\n",
    "セルにマウスカーソルを置いてクリックすると，そのセルを選択することができます．\n",
    "試しに，↓の Python コードが書かれたセルを選択して，セルの左の方にある三角形のボタン（$\\triangleright$，再生ボタンみたいなの）を押してみましょう．"
   ]
  },
  {
   "cell_type": "code",
   "execution_count": null,
   "metadata": {},
   "outputs": [],
   "source": [
    "x = 4648\n",
    "y = 1\n",
    "print(x + y)"
   ]
  },
  {
   "cell_type": "markdown",
   "metadata": {},
   "source": [
    "コードの書かれたセル（コードセル）のボタンを押すと，そのコードが実行されます．\n",
    "もう一度↑のコードセルを選んで，`y = 1` を `y = 1315` に書きかえてから実行してみましょう．\n",
    "ボタンを押す代わりに，Shift キーを押しながら Enter/Return キーを押しても実行できます．"
   ]
  },
  {
   "cell_type": "markdown",
   "metadata": {},
   "source": [
    "## 2. 準備"
   ]
  },
  {
   "cell_type": "markdown",
   "metadata": {},
   "source": [
    "次の2つのコードセルは，実行しても何も出力されません．\n",
    "あとで出てくるコードを実行するために必要な準備を行っています．\n"
   ]
  },
  {
   "cell_type": "code",
   "execution_count": null,
   "metadata": {},
   "outputs": [],
   "source": [
    "import cv2\n",
    "import numpy as np\n",
    "import matplotlib.pyplot as plt"
   ]
  },
  {
   "cell_type": "code",
   "execution_count": null,
   "metadata": {},
   "outputs": [],
   "source": [
    "# notebook 上で OpenCV の画像を表示するための関数\n",
    "#\n",
    "def display(img, axisoff=False):\n",
    "    img2 = cv2.cvtColor(img, cv2.COLOR_BGR2RGB)\n",
    "    plt.imshow(img2)\n",
    "    if axisoff:\n",
    "        plt.axis('off')\n",
    "    plt.show()"
   ]
  },
  {
   "cell_type": "markdown",
   "metadata": {},
   "source": [
    "## 3. 画像を読み込んで加工しよう Step1"
   ]
  },
  {
   "cell_type": "markdown",
   "metadata": {},
   "source": [
    "次のセルを実行すると，画像ファイルを読み込んで，notebook 上に表示します．"
   ]
  },
  {
   "cell_type": "code",
   "execution_count": null,
   "metadata": {},
   "outputs": [],
   "source": [
    "# blackuni3.png というファイル名の画像を読み込んで，変数 cat0 にその画素値を格納\n",
    "cat0 = cv2.imread('blackuni3.png')\n",
    "\n",
    "# cat0 の shape （形）を表示\n",
    "print(cat0.shape)\n",
    "\n",
    "# cat0 を表示\n",
    "display(cat0)"
   ]
  },
  {
   "cell_type": "markdown",
   "metadata": {},
   "source": [
    "セルを実行した結果，画像を表す数値（画素値）が `cat0` という変数に代入されました．\n",
    "この画像は，幅が 170 画素，高さが 120 画素のカラー画像です．"
   ]
  },
  {
   "cell_type": "markdown",
   "metadata": {},
   "source": [
    "次のセルを実行してみましょう．\n",
    "\n",
    "`cat1 = cv2.flip(cat0, 1)` という行を実行すると，`cat0` に格納された画像を左右反転させたものを作り，それを `cat1` に代入してくれます．"
   ]
  },
  {
   "cell_type": "code",
   "execution_count": null,
   "metadata": {},
   "outputs": [],
   "source": [
    "# cat0 が表す画像の左右を反転した画像を cat1 とする\n",
    "cat1 = cv2.flip(cat0, 1)\n",
    "display(cat1)"
   ]
  },
  {
   "cell_type": "markdown",
   "metadata": {},
   "source": [
    "---\n",
    "**★ やってみよう (1)**\n",
    "\n",
    "ウェブブラウザで `opencv flip` や `cv2.flip` とキーワードを指定して検索すると，`cv2.flip` 関数の使い方の情報が出てきます．\n",
    "上の例では2番目の引数を `1` にしていますが，この数字を変えると，画像を上下に反転させたり，両方とも（上下左右に）反転させたりできます．\n",
    "どう変えるとどうなるかを調べて，↑のセルの `cv2.flip` の括弧の中を書きかえて実行してみましょう．\n",
    "\n",
    "---"
   ]
  },
  {
   "cell_type": "markdown",
   "metadata": {},
   "source": [
    "次は，画像に長方形を描いてみましょう．\n",
    "`cv2.rectangle` 関数でできます．\n",
    "\n",
    "`cv2.flip` は，引数で渡された画像を反転させたものを別の画像として返してくれましたが，`cv2.rectangle` は，引数で渡された画像を直接いじります．\n"
   ]
  },
  {
   "cell_type": "code",
   "execution_count": null,
   "metadata": {},
   "outputs": [],
   "source": [
    "# 画像を読み込んで cat0 とする\n",
    "cat0 = cv2.imread('blackuni3.png')\n",
    "\n",
    "# cat0 に長方形を描く． (20, 60) と (60, 80) を2つの頂点とする長方形を，青色で，線の太さ 1 で\n",
    "cv2.rectangle(cat0, (20, 60), (60, 80), (255, 0, 0), thickness=1)\n",
    "\n",
    "# 重ねて長方形を描く．青色で，thickness を負にすると塗りつぶす\n",
    "cv2.rectangle(cat0, (160, 80), (120, 200), (255, 0, 0), thickness=-1)\n",
    "\n",
    "# cat0 を表示\n",
    "display(cat0)"
   ]
  },
  {
   "cell_type": "markdown",
   "metadata": {},
   "source": [
    "引数に `(20, 60)` などといろいろ指定しています．\n",
    "それらの意味は，コードセルに書いたコメントと，↑の実行結果から考えてみましょう．\n",
    "ちゃんと調べるなら，`cv2.rectangle` でウェブ検索してみるとよいでしょう．\n",
    "\n",
    "ちなみに，図についた縦横の軸の目盛から分かるとおり，縦方向の座標は数学でよく見るのとは向きが逆なので要注意です．"
   ]
  },
  {
   "cell_type": "markdown",
   "metadata": {},
   "source": [
    "---\n",
    "**★ やってみよう (2)**\n",
    "\n",
    "<img src=\"./rectangles.png\" width=500>\n",
    "\n",
    "以下のコードの中身を書きかえて，↑の画像を再現してみましょう．\n",
    "\n",
    "色をあわらす数値は，(青の強さ, 緑の強さ, 赤の強さ) という3つの組です．\n",
    "それぞれの色の強さは 0 から 255 まで（256段階）で，大きいほどその色をたくさん含みます．\n",
    "\n",
    "`(255, 0, 0)` は真っ青，`(255, 255, 255)` は真っ白，`(255, 255, 0)` は青と緑を最大含む色（どんな色？）"
   ]
  },
  {
   "cell_type": "code",
   "execution_count": null,
   "metadata": {},
   "outputs": [],
   "source": [
    "# このセルを修正して，↑の画像を再現しよう\n",
    "cat0 = cv2.imread('blackuni3.png')\n",
    "cv2.rectangle(cat0, (20, 60), (60, 80), (255, 0, 0), thickness=1)\n",
    "cv2.rectangle(cat0, (160, 80), (120, 200), (255, 0, 0), thickness=-1)\n",
    "display(cat0)"
   ]
  },
  {
   "cell_type": "markdown",
   "metadata": {},
   "source": [
    "---"
   ]
  },
  {
   "cell_type": "markdown",
   "metadata": {},
   "source": [
    "次のセルを実行するとどんな画像になるか，まずはやってみましょう．"
   ]
  },
  {
   "cell_type": "code",
   "execution_count": null,
   "metadata": {},
   "outputs": [],
   "source": [
    "# 画像を読み込んで cat0 とする\n",
    "cat0 = cv2.imread('blackuni3.png')\n",
    "\n",
    "# cat0 の画素値を全て反転させたものを cat1 とする\n",
    "cat1 = 255 - cat0\n",
    "\n",
    "# cat1 を表示\n",
    "display(cat1)"
   ]
  },
  {
   "cell_type": "markdown",
   "metadata": {},
   "source": [
    "`cat1 = 255 - cat0` という計算では，色を表す数値の最大値である 255 から `cat0` の画素値を引いたものが `cat1` の画素値になります．\n",
    "何が起こっているのか理解するために，黒，白，赤，緑，黄，に対応する画素値で考えてみましょう．\n",
    "\n",
    "- 黒<font color=\"000000\">■</font>: `(0, 0, 0)` は `(255, 255, 255)` つまり白<font color=\"ffffff\">■</font>になる\n",
    "- 白<font color=\"ffffff\">■</font>: `(255, 255, 255)` は `(0, 0, 0)` つまり黒<font color=\"000000\">■</font>になる\n",
    "- 赤<font color=\"ff0000\">■</font>: `(255, 0, 0)` は `(0, 255, 255)` つまりシアン<font color=\"00ffff\">■</font>になる\n",
    "- 緑<font color=\"00ff00\">■</font>: `(0, 255, 0)` は `(255, 0, 255)` つまりマゼンタ<font color=\"ff00ff\">■</font>になる\n",
    "- 黄<font color=\"ffff00\">■</font>: `(255, 255, 0)` は `(0, 0, 255)` つまり青<font color=\"0000ff\">■</font>になる\n",
    "\n",
    "このように，「色を表す数値の最大値である 255 から元の画素値を引いたもの」は，元の画像の画素値の大小を反転させたものとなります．\n",
    "\n",
    "「★ やってみよう (2)」の `display(cat0)` を次の2行に書きかえてみると...\n",
    "```\n",
    "cat1 = 255 - cat0\n",
    "display(cat1)\n",
    "```"
   ]
  },
  {
   "cell_type": "markdown",
   "metadata": {},
   "source": [
    "---\n",
    "**★ やってみよう (3)**\n",
    "\n",
    "`cv2.circle` で円を描くことができます．描画の関数は他にもあります．使い方を調べて，次のセルをいじっていろいろ試してみよう．\n"
   ]
  },
  {
   "cell_type": "code",
   "execution_count": null,
   "metadata": {},
   "outputs": [],
   "source": [
    "cat0 = cv2.imread('blackuni3.png')\n",
    "display(cat0)"
   ]
  },
  {
   "cell_type": "markdown",
   "metadata": {},
   "source": [
    "---"
   ]
  },
  {
   "cell_type": "markdown",
   "metadata": {},
   "source": [
    "## 4. 画像を読み込んで加工しよう Step2"
   ]
  },
  {
   "cell_type": "markdown",
   "metadata": {},
   "source": [
    "次は，画像の一部の範囲を切り取って，そこを加工してみましょう．\n",
    "\n",
    "まずは，画像の一部の範囲を切り取った画像を作る方法を説明します．\n",
    "次のセルを実行すると，`cat0` のy座標が 40 から 99 まで，x座標が 20 から 59 までの範囲を切り取ったものが `cat1` となります．\n",
    "`40:100` という指定が 40 以上 100 **未満** の範囲を表し，`20:60` が 20 以上 60 **未満** の範囲を表します．\n",
    "`:` だけの所は，全ての範囲を表します（この例では，色の軸に対応しています）．"
   ]
  },
  {
   "cell_type": "code",
   "execution_count": null,
   "metadata": {},
   "outputs": [],
   "source": [
    "# 画像を読み込んで cat0 とする\n",
    "cat0 = cv2.imread('blackuni3.png')\n",
    "\n",
    "# cat0 の一部を切り取る\n",
    "cat1 = cat0[40:100, 20:80, :]\n",
    "\n",
    "# shape の表示\n",
    "print('cat0.shape = ', cat0.shape)\n",
    "print('cat1.shape = ', cat1.shape)\n",
    "\n",
    "# 表示\n",
    "display(cat1)"
   ]
  },
  {
   "cell_type": "markdown",
   "metadata": {},
   "source": [
    "`a:b` のようにして画像の特定範囲を指定できることが分かりました．\n",
    "範囲を指定して，そこに色を表す3つの数値を代入すると，その範囲をその色で塗りつぶすことになります．"
   ]
  },
  {
   "cell_type": "code",
   "execution_count": null,
   "metadata": {},
   "outputs": [],
   "source": [
    "# 画像を読み込んで cat0 とする\n",
    "cat0 = cv2.imread('blackuni3.png')\n",
    "\n",
    "# cat0 の一部の範囲に赤色の画素値を代入\n",
    "cat0[40:100, 20:80, :] = [0, 0, 255]\n",
    "\n",
    "# 表示\n",
    "display(cat0)"
   ]
  },
  {
   "cell_type": "markdown",
   "metadata": {},
   "source": [
    "---\n",
    "**★ やってみよう (4)**\n",
    "\n",
    "次のコードセルを修正して，猫の顔を青く塗りつぶしてみましょう．\n",
    "`cv2.rectangle` でもできますが，ここでは上で説明した範囲指定の方法でやってみてね．\n"
   ]
  },
  {
   "cell_type": "code",
   "execution_count": null,
   "metadata": {},
   "outputs": [],
   "source": [
    "cat0 = cv2.imread('blackuni3.png')\n",
    "display(cat0)"
   ]
  },
  {
   "cell_type": "markdown",
   "metadata": {},
   "source": [
    "---"
   ]
  },
  {
   "cell_type": "markdown",
   "metadata": {},
   "source": [
    "次のセルが何をやっているのか，実行して＆コードを読んで理解しましょう．"
   ]
  },
  {
   "cell_type": "code",
   "execution_count": null,
   "metadata": {},
   "outputs": [],
   "source": [
    "# 画像を読み込んで cat0 とする\n",
    "cat0 = cv2.imread('blackuni3.png')\n",
    "\n",
    "# cat0 の一部を切り取ったものを cat1 とする\n",
    "cat1 = cat0[40:100, 20:80, :]\n",
    "\n",
    "# cat1 を表示\n",
    "display(cat1)\n",
    "\n",
    "# cat1 の画素値を反転したものを cat0 の元の範囲に代入する\n",
    "cat0[40:100, 20:80, :] = 255 - cat1\n",
    "\n",
    "# cat0 を表示\n",
    "display(cat0)"
   ]
  },
  {
   "cell_type": "markdown",
   "metadata": {},
   "source": [
    "---\n",
    "**★ やってみよう (5)**\n",
    "\n",
    "ネコの顔の部分の画素値を反転させた画像を作ってみよう．"
   ]
  },
  {
   "cell_type": "code",
   "execution_count": null,
   "metadata": {},
   "outputs": [],
   "source": [
    "cat0 = cv2.imread('blackuni3.png')\n",
    "display(cat0)"
   ]
  },
  {
   "cell_type": "markdown",
   "metadata": {},
   "source": [
    "---"
   ]
  },
  {
   "cell_type": "markdown",
   "metadata": {},
   "source": [
    "範囲を指定して切り取った画像を，`cv2.flip`等の関数を使って加工することもできます．"
   ]
  },
  {
   "cell_type": "code",
   "execution_count": null,
   "metadata": {},
   "outputs": [],
   "source": [
    "# 画像を読み込んで cat0 とする\n",
    "cat0 = cv2.imread('blackuni3.png')\n",
    "\n",
    "# cat0 の一部を切り取ったものを cat1 とする\n",
    "cat1 = cat0[40:100, 20:80, :]\n",
    "\n",
    "# cat1 の左右を反転したものを cat0 の元の範囲に代入する\n",
    "cat0[40:100, 20:80, :] = cv2.flip(cat1, 1)\n",
    "\n",
    "# cat0 を表示\n",
    "display(cat0)"
   ]
  },
  {
   "cell_type": "markdown",
   "metadata": {},
   "source": [
    "---\n",
    "**★ やってみよう (6)**\n",
    "\n",
    "ネコの顔の部分を上下に反転させた画像を作ってみよう．"
   ]
  },
  {
   "cell_type": "code",
   "execution_count": null,
   "metadata": {},
   "outputs": [],
   "source": [
    "cat0 = cv2.imread('blackuni3.png')\n",
    "display(cat0)"
   ]
  },
  {
   "cell_type": "markdown",
   "metadata": {},
   "source": [
    "---"
   ]
  },
  {
   "cell_type": "code",
   "execution_count": null,
   "metadata": {},
   "outputs": [],
   "source": []
  }
 ],
 "metadata": {
  "kernelspec": {
   "display_name": "nanyo",
   "language": "python",
   "name": "python3"
  },
  "language_info": {
   "codemirror_mode": {
    "name": "ipython",
    "version": 3
   },
   "file_extension": ".py",
   "mimetype": "text/x-python",
   "name": "python",
   "nbconvert_exporter": "python",
   "pygments_lexer": "ipython3",
   "version": "3.13.2"
  }
 },
 "nbformat": 4,
 "nbformat_minor": 2
}
