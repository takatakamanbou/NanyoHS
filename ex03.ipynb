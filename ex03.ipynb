{
 "cells": [
  {
   "cell_type": "markdown",
   "metadata": {},
   "source": [
    "# ex03 顔検出してみよう"
   ]
  },
  {
   "cell_type": "markdown",
   "metadata": {},
   "source": [
    "## 1. 顔検出のプログラムを実行してみよう\n",
    "\n"
   ]
  },
  {
   "cell_type": "markdown",
   "metadata": {},
   "source": [
    "(1) VSCode で [facedetect.py](facedetect.py) を開いて中身を確認し，実行しましょう．\n",
    "\n",
    "```\n",
    "2人目: (顔領域の左上のX座標, Y座標, 幅, 高さ) =  (625, 160, 180, 180)\n",
    "```\n",
    "\n",
    "のような表示は，その瞬間の画像から検出された2人目のひとの顔が，\n",
    "\n",
    "- 左上の座標が `(X, Y) = (625, 160)` \n",
    "- 幅が 180 で高さが 180\n",
    "\n",
    "の長方形内にあったことを示しています．自分で映りながら左右や前後に動いてみて，これらの数値が変化する様子を観察しましょう．\n",
    "さらに，他のひとと一緒に映ったりしてみましょう．\n"
   ]
  },
  {
   "cell_type": "markdown",
   "metadata": {},
   "source": [
    "(2) カメラで撮った画像を左右反転させた方が，このあといろいろ実験しやすいかもしれません．\n",
    "`cap.read()` の行の直後に，「`frame` に格納された画像を左右反転させて再び `frame` に代入する」行を追加して，左右反転させましょう．"
   ]
  },
  {
   "cell_type": "markdown",
   "metadata": {},
   "source": [
    "(3) プログラムの\n",
    "\n",
    "```python\n",
    "    for i, pos in enumerate(posList):\n",
    "        # px: 顔領域の左上のX座標， py: Y座標， w: 幅， h: 高さ\n",
    "        px, py, w, h = pos\n",
    "        print(f'{i+1}人目: (顔領域の左上のX座標, Y座標, 幅, 高さ) =  ({px}, {py}, {w}, {h})')\n",
    "```\n",
    "\n",
    "という箇所の直後に次のように cv2.rectangle を追加すると，検出した顔領域を緑色の枠で囲むことができます．\n",
    "\n",
    "```python\n",
    "    for i, pos in enumerate(posList):\n",
    "        # px: 顔領域の左上のX座標， py: Y座標， w: 幅， h: 高さ\n",
    "        px, py, w, h = pos\n",
    "        print(f'{i+1}人目: (顔領域の左上のX座標, Y座標, 幅, 高さ) =  ({px}, {py}, {w}, {h})')\n",
    "        # 顔領域を枠線で囲む\n",
    "        cv2.rectangle(frame, (px, py), (???, ???), (0, 255, 0))\n",
    "```\n",
    "\n",
    "ただし，`(???, ???)` のところは修正が必要です．どう書くべきか考えて，修正して実行してみましょう．"
   ]
  },
  {
   "cell_type": "markdown",
   "metadata": {},
   "source": [
    "## 2. 顔検出のプログラムを改造しよう"
   ]
  },
  {
   "cell_type": "markdown",
   "metadata": {},
   "source": [
    "`facedetect.py` を改造してみましょう．\n",
    "\n",
    "(1) ↑で追加した cv2.rectangle をやめて，かわりに，顔領域内の画素値を反転させてみよう\n",
    "\n",
    "(2) 他にもいろいろ面白いことをやってみよう"
   ]
  },
  {
   "cell_type": "code",
   "execution_count": null,
   "metadata": {},
   "outputs": [],
   "source": []
  }
 ],
 "metadata": {
  "language_info": {
   "name": "python"
  }
 },
 "nbformat": 4,
 "nbformat_minor": 2
}
